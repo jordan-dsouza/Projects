{
  "nbformat": 4,
  "nbformat_minor": 0,
  "metadata": {
    "colab": {
      "provenance": [],
      "authorship_tag": "ABX9TyNfP3gkELX32hU7pXsAIMab",
      "include_colab_link": true
    },
    "kernelspec": {
      "name": "python3",
      "display_name": "Python 3"
    },
    "language_info": {
      "name": "python"
    }
  },
  "cells": [
    {
      "cell_type": "markdown",
      "metadata": {
        "id": "view-in-github",
        "colab_type": "text"
      },
      "source": [
        "<a href=\"https://colab.research.google.com/github/jordan-dsouza/Projects/blob/main/Naive_Bayes.ipynb\" target=\"_parent\"><img src=\"https://colab.research.google.com/assets/colab-badge.svg\" alt=\"Open In Colab\"/></a>"
      ]
    },
    {
      "cell_type": "code",
      "execution_count": 1,
      "metadata": {
        "id": "tEJswop2mDNa"
      },
      "outputs": [],
      "source": [
        "from sklearn.feature_extraction.text import CountVectorizer\n",
        "from sklearn.naive_bayes import MultinomialNB\n",
        "from sklearn.model_selection import train_test_split\n",
        "from sklearn.metrics import accuracy_score, classification_report"
      ]
    },
    {
      "cell_type": "code",
      "source": [
        "#Corpus:\n",
        "import random\n",
        "\n",
        "# Generate a corpus for sentiment analysis\n",
        "corpus = []\n",
        "\n",
        "positive_samples = [\n",
        "    \"I love this product! It works great.\",\n",
        "    \"The weather is beautiful today.\",\n",
        "    \"The team performed exceptionally well in the match.\",\n",
        "    \"I had an amazing time at the concert.\",\n",
        "    \"The service at the restaurant was excellent.\",\n",
        "    \"I appreciate the help and support from my friends.\",\n",
        "    \"The movie was fantastic, and the acting was superb.\",\n",
        "    \"I'm feeling so happy and content right now.\",\n",
        "    \"I am grateful for the opportunities I have in life.\",\n",
        "]\n",
        "\n",
        "negative_samples = [\n",
        "    \"This product is terrible. It doesn't work at all.\",\n",
        "    \"I can't believe how bad the weather is today.\",\n",
        "    \"The team played poorly in the match.\",\n",
        "    \"The concert was a disaster. I regret going.\",\n",
        "    \"The service at the restaurant was awful.\",\n",
        "    \"I'm so frustrated with the lack of help and support.\",\n",
        "    \"The movie was a complete waste of time.\",\n",
        "    \"I'm feeling sad and disappointed right now.\",\n",
        "    \"I'm struggling with challenges in life.\",\n",
        "]\n",
        "\n",
        "neutral_samples = [\n",
        "    \"Today is an average day with no particular excitement.\",\n",
        "    \"I have mixed feelings about the current situation.\",\n",
        "    \"The news was neither good nor bad.\",\n",
        "    \"I'm neither happy nor sad right now.\",\n",
        "    \"The experience was neither positive nor negative.\",\n",
        "    \"I'm indifferent towards the outcome.\",\n",
        "    \"I have no strong opinion about the matter.\",\n",
        "    \"The situation is neither here nor there.\",\n",
        "    \"I'm in a neutral state of mind.\",\n",
        "]\n",
        "\n",
        "# Add samples to the corpus\n",
        "for _ in range(35):\n",
        "    corpus.append((random.choice(positive_samples), 'positive'))\n",
        "    corpus.append((random.choice(negative_samples), 'negative'))\n",
        "    corpus.append((random.choice(neutral_samples), 'neutral'))\n",
        "\n",
        "# Shuffle the corpus to mix positive, negative, and neutral samples\n",
        "random.shuffle(corpus)\n",
        "\n",
        "# Display the first few samples in the corpus\n",
        "for i in range(5):\n",
        "    print(corpus[i])\n"
      ],
      "metadata": {
        "colab": {
          "base_uri": "https://localhost:8080/"
        },
        "id": "aUmitGqCLFgP",
        "outputId": "fd2486ef-5337-4d3a-97dd-97ccc5289b46"
      },
      "execution_count": 2,
      "outputs": [
        {
          "output_type": "stream",
          "name": "stdout",
          "text": [
            "(\"I'm neither happy nor sad right now.\", 'neutral')\n",
            "('The experience was neither positive nor negative.', 'neutral')\n",
            "('I had an amazing time at the concert.', 'positive')\n",
            "('The experience was neither positive nor negative.', 'neutral')\n",
            "('The news was neither good nor bad.', 'neutral')\n"
          ]
        }
      ]
    },
    {
      "cell_type": "code",
      "source": [
        "#Splitting into training and testing:\n",
        "text, labels = zip(*corpus)\n",
        "X_train, X_test, y_train, y_test = train_test_split(text, labels, test_size=0.2, random_state=42)"
      ],
      "metadata": {
        "id": "MSsaLef2LNaQ"
      },
      "execution_count": 3,
      "outputs": []
    },
    {
      "cell_type": "code",
      "source": [
        "#Vectorize text data:\n",
        "vectorizer = CountVectorizer()\n",
        "X_train_v = vectorizer.fit_transform(X_train)\n",
        "X_test_v = vectorizer.transform(X_test)"
      ],
      "metadata": {
        "id": "03FinsQZMxxu"
      },
      "execution_count": 4,
      "outputs": []
    },
    {
      "cell_type": "code",
      "source": [
        "#Initialization and training:\n",
        "nb_classifier = MultinomialNB()\n",
        "nb_classifier.fit(X_train_v, y_train)\n",
        "#Test set labels:\n",
        "y_pred = nb_classifier.predict(X_test_v)"
      ],
      "metadata": {
        "id": "zDh9_NYAOWdq"
      },
      "execution_count": 7,
      "outputs": []
    },
    {
      "cell_type": "code",
      "source": [
        "#Performance:\n",
        "accuracy=accuracy_score(y_test,y_pred)\n",
        "print(f\"Accuracy is :{round(accuracy*100,2)}%\")"
      ],
      "metadata": {
        "colab": {
          "base_uri": "https://localhost:8080/"
        },
        "id": "qpHjJYOjQG8z",
        "outputId": "d0817b01-4c2f-4c67-addf-d8a1c4989d8f"
      },
      "execution_count": 13,
      "outputs": [
        {
          "output_type": "stream",
          "name": "stdout",
          "text": [
            "Accuracy is :80.95%\n"
          ]
        }
      ]
    },
    {
      "cell_type": "code",
      "source": [
        "#Classification report:\n",
        "print(\"Classification report:\")\n",
        "print(classification_report(y_test, y_pred))"
      ],
      "metadata": {
        "colab": {
          "base_uri": "https://localhost:8080/"
        },
        "id": "FRa51ltdQr8y",
        "outputId": "d494328f-b311-4b29-e9f7-2c6bf077b925"
      },
      "execution_count": 14,
      "outputs": [
        {
          "output_type": "stream",
          "name": "stdout",
          "text": [
            "Classification report:\n",
            "              precision    recall  f1-score   support\n",
            "\n",
            "    negative       0.71      0.71      0.71         7\n",
            "     neutral       1.00      1.00      1.00        10\n",
            "    positive       0.50      0.50      0.50         4\n",
            "\n",
            "    accuracy                           0.81        21\n",
            "   macro avg       0.74      0.74      0.74        21\n",
            "weighted avg       0.81      0.81      0.81        21\n",
            "\n"
          ]
        }
      ]
    }
  ]
}
